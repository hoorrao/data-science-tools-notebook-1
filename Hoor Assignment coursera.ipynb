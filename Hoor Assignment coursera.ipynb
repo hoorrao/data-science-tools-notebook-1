{
  "metadata": {
    "kernelspec": {
      "name": "SQLite",
      "display_name": "SQLite",
      "language": "sql"
    },
    "language_info": {
      "codemirror_mode": "sql",
      "file_extension": "",
      "mimetype": "",
      "name": "sql",
      "version": "3.32.3"
    }
  },
  "nbformat_minor": 5,
  "nbformat": 4,
  "cells": [
    {
      "id": "d8e91900-8b03-458d-bd16-30d7ee619433",
      "cell_type": "markdown",
      "source": "# Data Science Tools and Ecosystem\n",
      "metadata": {}
    },
    {
      "id": "d88bcf45-b01a-4c2a-9070-8099ca5846ab",
      "cell_type": "markdown",
      "source": "In this notebook, Data Science Tools and Ecosystem are summarized.\n",
      "metadata": {}
    },
    {
      "id": "6ebdd7fa-c148-41be-8e94-f2ac1e495dd8",
      "cell_type": "markdown",
      "source": "### Some of the popular languages that Data Scientists use are:\n- Python\n- R\n- SQL\n- Java\n- Julia\n",
      "metadata": {}
    },
    {
      "id": "c7838b9c-3f60-43f3-8cc0-3004bda54b9f",
      "cell_type": "markdown",
      "source": "### Some of the commonly used libraries used by Data Scientists include:\n- Pandas\n- NumPy\n- Matplotlib\n- Seaborn\n- Scikit-learn\n- TensorFlow\n\n",
      "metadata": {}
    },
    {
      "id": "d576ac11-3ebc-4b8a-9f44-2bf37897b598",
      "cell_type": "markdown",
      "source": "### Data Science Tools\n\n| Category         | Tool               |\n|------------------|--------------------|\n| Data Analysis    | Pandas             |\n| Machine Learning | Scikit-learn       |\n| Deep Learning    | TensorFlow         |\n| Visualization    | Matplotlib         |\n| Big Data         | Apache Spark       |\n",
      "metadata": {}
    },
    {
      "id": "491a849a-334c-4efb-b250-f75c85bbed27",
      "cell_type": "markdown",
      "source": "### Below are a few examples of evaluating arithmetic expressions in Python.\n",
      "metadata": {}
    },
    {
      "id": "5fc4ffc6-248f-4dfa-aa52-c3d75d70a27d",
      "cell_type": "markdown",
      "source": "# Convert 200 minutes to hours\nminutes = 200\nhours = minutes / 60\nhours\n",
      "metadata": {}
    },
    {
      "id": "dc5bf4df-ecca-4796-b692-e3ee8ab6fa35",
      "cell_type": "markdown",
      "source": "### Objectives:\n- List popular languages for Data Science\n- List commonly used libraries in Data Science\n- Create tables using markdown\n- Evaluate arithmetic expressions in Python\n- Convert minutes to hours using Python\n",
      "metadata": {}
    },
    {
      "id": "661b5610-370d-4637-ae96-acb0d072a97d",
      "cell_type": "markdown",
      "source": "**Author:** Hoor Rao\n",
      "metadata": {}
    }
  ]
}